{
 "cells": [
  {
   "cell_type": "markdown",
   "metadata": {},
   "source": [
    "# The Epistemology of Deep Learning\n",
    "# Example 1: Learning to Recognize Handwritten Numerical Digits\n",
    "\n",
    "## The MNIST Database of Handwritten Digits\n",
    "\n",
    "\n",
    "The MNIST image dataset is a collection of grayscale images of handwritten numerical digits ($28$ pixels $\\times$ $28$ pixels). We will represent these images as arrays of $784$ ($28 \\times 28$) numbers, each in the interval $[0, 1]$, representing the grayscale color intensity of the corresponding pixel ($0 =$ white, $1 =$ black). The images are divided into two disjoint sets: a set of $60,000$ training images (stored in the variable `training_images`) and set of ($10,000$) testing images (stored in the variable `testing_images`). In addition, the MNIST database provides a corresponding set of labels, indicating, for each image in the dataset, which numerical digit it depicts (these sets of labels are stored in the variables `training_labels` and `testing_labels`).    "
   ]
  },
  {
   "cell_type": "markdown",
   "metadata": {},
   "source": [
    "Here is a sample image of a handwritten digit from the dataset, along with its corresponding label."
   ]
  },
  {
   "cell_type": "code",
   "execution_count": 1,
   "metadata": {
    "tags": []
   },
   "outputs": [
    {
     "name": "stdout",
     "output_type": "stream",
     "text": [
      "This is an image of a handwritten 8\n"
     ]
    },
    {
     "data": {
      "image/png": "[encoded data removed]",
      "text/plain": [
       "<Figure size 432x288 with 1 Axes>"
      ]
     },
     "metadata": {
      "needs_background": "light"
     },
     "output_type": "display_data"
    }
   ],
   "source": [
    "def display_image(image):\n",
    "    \"\"\"Displays an image\"\"\"\n",
    "    image_2d = image.reshape(28, 28)\n",
    "    plt.imshow(image_2d, interpolation='nearest', cmap='Greys')\n",
    "\n",
    "def display_labeled_image(i):\n",
    "    \"\"\"Displays the ith training image with its corresponding label.\"\"\"\n",
    "    image = training_images[i]\n",
    "    digit = training_labels[i]   \n",
    "    \n",
    "    print(f\"This is an image of a handwritten {digit}\")\n",
    "    display_image(image)\n",
    "    \n",
    "display_labeled_image(2378)"
   ]
  },
  {
   "cell_type": "markdown",
   "metadata": {},
   "source": [
    "## A Simple Neural Network\n",
    "\n",
    "In this section, we will implement a simple neural network that can be used to identify the numerals depicted by images of handwritten digits, such as those which are stored in the MNIST dataset. Our neural network will consist of an input layer of linearly ordered nodes and an output layer of linearly ordered nodes, referred to collectively as *neurons*. The network will be fully connected in the sense that every input neuron will be connected to every output neuron. The graph of such a fully connected 2-layer neural network is pictured below:\n",
    "\n",
    "![nn_simple](../assets/images/mnist/nn_simple.png)\n",
    "\n",
    "The state of such a neural network is given by an assignment of numerical values, referred to as *weights*, to each of the links connecting the neurons. The network utilizes these weights to transform an assignment of numerical values to the neurons in the input layer into an assignment of numerical values to the neurons in the output layer. When we speak of 'training' the neural network, what we mean is the implementation of an algorithmic procedure by which the weights in the network are systematically adjusted so that certain inputs, when supplied to the network, produce more desirable outputs. \n",
    "\n",
    "For example, the neural network that we will use to classify the images in the MNIST dataset will contain $784$ neurons in the input layer (one for each pixel in a given image) and $10$ neurons in the output layer (one for each of the numerical digits $0,\\ldots,9$). In training the network, our aim will be to adjust the weights so that any image of a handwritten digit, encoded as a sequence of $784$ input values, is transformed into a sequence of $10$ output values from which we can reliably infer what numerical digit is depicted in the image (e.g., the index of the largest numerical value in the output sequence could be taken to correspond to the depicted digit).  "
   ]
  },
  {
   "cell_type": "markdown",
   "metadata": {},
   "source": [
    "### Gradient Descent\n",
    "\n",
    "In order to provide a more concrete description of the method by which our neural network will be trained, we will take as given:\n",
    "\n",
    "1. An ordered set of *inputs* on which the network will be trained, referred to as *training inputs*. Each training input assigns a numerical value to every neuron in the input layer.\n",
    "2. An ordered set of *targets*, one for each training input, referred to as *training targets*. Each training target assigns a numerical value to every neuron in the output layer.\n",
    "\n",
    "\n",
    "The specific method by which we will train the network is referred to as the method of *gradient descent*. We will first describe this method as it applies to any 2-layer neural network (while the basic idea behind the method is always the same, as we shall see, the details of its implementation are somewhat more involved when the method is applied to networks with more complex architectures). To describe the method precisely, it will be helpful to adopt the following notation:\n",
    "\n",
    "1. $T$ is the number of training inputs (and training targets); $N_0$ is the number of nodes in the network's input layer; and $N_1$ is the number of nodes in the network's output layer. \n",
    "\n",
    "For $t=0,\\ldots,T-1$:\n",
    "\n",
    "2. $v^{t} = [v^{t}_0,\\ldots, v^{t}_{N_0-1}]$, where $v^{t}_i = $ the value assigned to the $i^{\\mathrm{th}}$ neuron in the input layer by the $t^{\\mathrm{th}}$ training input.  \n",
    "3. $l^{t} = [l^{t}_0,\\ldots, l^{t}_{N_1-1}]$, where $l^{t}_i = $ the value assigned to the $i^{\\mathrm{th}}$ neuron in the output layer by the $t^{\\mathrm{th}}$ training target\n",
    "4. $w^{t} = \\begin{bmatrix}\n",
    "                w^t_{00} & w^t_{01} & \\cdots & w^t_{0(N_1-1)}\\\\\n",
    "                w^t_{10} & w^t_{11} & \\cdots & w^t_{1(N_1-1)}\\\\\n",
    "                \\vdots & \\vdots & \\ddots & \\vdots\\\\\n",
    "                w^t_{(N_0-1)0} & w^t_{(N_0-1)1} & \\cdots & w^t_{(N_0-1)(N_1-1)}\\\\\n",
    "             \\end{bmatrix}$, where $w^t_{ij}=$ the weight of the link connecting the $i^{\\mathrm{th}}$ neuron in the input layer to the $j^{\\mathrm{th}}$ neuron in the output layer at the point at which the network is trained on the $t^{\\mathrm{th}}$ training input.\n",
    "\n",
    "We  update the weights of the network by successively feeding each training input to the network and comparing the output to the corresponding training target. The specific updating process with respect to a given training input can be described as follows:\n",
    "\n",
    "1. **Propagate the $t^{\\mathrm{th}}$ training input through the network.** This means that the values of the neurons in the output layer are set to the weighted averages (dot product) of the values of the neurons in the input layer. Formally, if $o^{t} = [o^{t}_0,\\ldots, o^{t}_{N_1-1}]$, where $o^{t}_i = $ the value assigned to the $i^{\\mathrm{th}}$ neuron in the output layer by propagating the $t^{\\mathrm{th}}$ training input through the network, then $o^t = v^t\\cdot w^t$, i.e.:\n",
    "$$ \n",
    "    o^t_i = \\sum_{j=0}^{N_0-1} v^t_j w^t_{ji} \n",
    "$$\n"
   ]
  },
  {
   "cell_type": "code",
   "execution_count": 2,
   "metadata": {},
   "outputs": [],
   "source": [
    "def propagate(weights, inputs):\n",
    "    \"\"\"Propagate inputs through the neural network\"\"\"\n",
    "    # Return the dot product of the inputs and the weights (i.e., the weighted averages of the inputs) \n",
    "    outputs = np.dot(inputs, weights)\n",
    "    return outputs"
   ]
  },
  {
   "cell_type": "markdown",
   "metadata": {},
   "source": [
    "2. **Measure the degree of deviation (or \"loss\") of the outputs from the corresponding training target**. While there are many different ways of measuring the extent to which the outputs deviate from the corresponding training target, one standard loss function is the mean-squared error, given by:\n",
    "$$\n",
    "E(o^t) = \\frac{1}{N_1}(o^t - l^t)^2 = \\frac{1}{N_1}\\sum_{i=0}^{N_1-1} (o^t_i - l^t_i)^2\n",
    "$$\n",
    "\n",
    "3. **Adjust the network weights by some amount in the opposite direction of the gradient of the loss function.** Since the gradient of a multi-variate function points in the direction in which that function increases most rapidly, by shifting the weights in a direction opposite to that of the gradient of the loss function, the result should be that the output's loss (at least for that specific training input) is decreased. If we view $E$ as a function of the network weights, then the $w^t_{ij}$-component of the gradient of $E$ is given by the partial derivative of $E$ with respect to $w^t_{ij}$:\n",
    "\\begin{eqnarray}\n",
    "    \\frac{\\partial E}{\\partial w^t_{ij}} &=& \\frac{\\partial}{\\partial w^t_{ij}}\\left\\{\\frac{1}{N_1}\\sum_{n=0}^{N_1-1} (o^t_n - l^t_n)^2\\right\\} \\\\\n",
    "                                        &=& \\frac{\\partial}{\\partial w^t_{ij}}\\left\\{\\frac{1}{N_1}\\sum_{n=0}^{N_1-1} \\left(\\left(\\sum_{m=0}^{N_0-1} v^t_m w^t_{mn}\\right) - l^t_n\\right)^2\\right\\} \\\\\n",
    "                                        &=& \\frac{\\partial}{\\partial w^t_{ij}}\\left\\{\\frac{1}{N_1}\\left(\\left(\\sum_{m=0}^{N_0-1} v^t_m w^t_{mj}\\right) - l^t_j\\right)^2\\right\\}\\\\\n",
    "                                        &=& \\frac{2v^t_i}{N_1}\\left(\\left(\\sum_{m=0}^{N_0-1} v^t_m w^t_{mj}\\right) - l^t_j\\right) \\\\\n",
    "                                        &=& \\frac{2v^t_i}{N_1}\\left(o^t_j - l^t_j\\right) \\\\\n",
    "\\end{eqnarray}\n",
    "Thus, the $w^t_{ij}$-component of the gradient of the error function is proportional to:\n",
    "$$v^t_i\\left(o^t_j - l^t_j\\right)$$\n",
    "To adjust the weights in the direction opposite to the gradient means to *subtract* from each weight some fixed positive multiple of this quantity, i.e.: \n",
    "$$\n",
    "w^{t+1}_{ij} = w^t_{ij} - \\alpha v^t_i\\left(o^t_j - l^t_j\\right)\n",
    "$$\n",
    "where $\\alpha$ is a positive constant, referred to as the *learning rate*. These equations, which describes the gradient descent algorithm for updating the weights in response to the $t^{\\mathrm{th}}$ training input, can be summarized by the following equation, expressed in matrix notation:\n",
    "$$\n",
    "w^{t+1} = w^t - \\alpha \\left((v^t)^{\\top}\\cdot(o^t-l^t)\\right)\n",
    "$$\n",
    "where $(v^t)^{\\top}$ is the vector transpose of $v^t$, i.e.:\n",
    "\n",
    "$$\n",
    "(v^t)^{\\top} = \\begin{bmatrix}\n",
    "               v^t_0 \\\\\n",
    "               v^t_1 \\\\\n",
    "               \\vdots \\\\\n",
    "               v^t_{N_0-1}\n",
    "             \\end{bmatrix}\n",
    "$$\n",
    "The following code implements this algorithm."
   ]
  },
  {
   "cell_type": "code",
   "execution_count": 3,
   "metadata": {},
   "outputs": [],
   "source": [
    "def gradient_descent(weights, inputs, targets, alpha):\n",
    "    \"\"\"Update weights using gradient descent wrt mean squared loss function\"\"\"\n",
    "    # Propagate the inputs throught the network\n",
    "    outputs = propagate(weights, inputs)\n",
    "    # Compute the gradient (scaled by alpha)\n",
    "    scaled_gradient = alpha * (inputs.T.dot(outputs - targets))\n",
    "    # Adjust the weights by subtracting the scaled gradient\n",
    "    weights -= scaled_gradient\n",
    "\n",
    "    return weights"
   ]
  },
  {
   "cell_type": "markdown",
   "metadata": {},
   "source": [
    "4. **Repeat steps 1-4 for the $(t+1)^{th}$ training input.** Training the network consists in updating the weights by successively applying the gradient descent algorithm to each of the training inputs. In other words, given initial weights, $w^0$, the training process returns a neural network with weights, $w^T$, obtained through the repeated application of the gradient decent algorithm.\n"
   ]
  },
  {
   "cell_type": "code",
   "execution_count": 6,
   "metadata": {},
   "outputs": [],
   "source": [
    "def train_network(initial_weights, training_inputs, training_targets, alpha):\n",
    "    \"\"\"Train the neural network using the method of gradient descent\"\"\"\n",
    "    # Initialize weights\n",
    "    weights = initial_weights\n",
    "    # Update weights for each training input\n",
    "    for t in range(len(training_inputs)):\n",
    "        inputs = training_inputs[t]\n",
    "        targets = training_targets[t]\n",
    "        weights = gradient_descent(weights, inputs, targets, alpha)\n",
    "        \n",
    "    def trained_network(inputs):\n",
    "        return np.dot(inputs, weights)\n",
    "    \n",
    "    # Return the trained neural network and its weights\n",
    "    return trained_network, weights          "
   ]
  },
  {
   "cell_type": "markdown",
   "metadata": {},
   "source": [
    "### Training and Testing the MNIST Neural Network\n",
    "\n",
    "We are now in a position to train a neural network that we can use to identify the digits depicted in the images in the MNIST dataset. As noted above, the network will contain $784$ input neurons (one for each pixel in a given image) and $10$ output neurons (one for each of the numerical digits $0,\\ldots,9$). The training inputs for the network will consist of the $60,000$ images comprising the `training_images` dataset. The training targets will consist of the corresponding labels, stored as arrays of length $10$ where every entry is $0$ except for the entry whose index is the depicted digit, which will be $1$ (e.g., the target corresponding to an image of the digit $4$ will be $[0, 0, 0, 0, 1, 0, 0, 0, 0, 0]$). For simplicity, the training targets have already been saved in the variable `training_targets`."
   ]
  },
  {
   "cell_type": "markdown",
   "metadata": {},
   "source": [
    "For the initial weights, we will use random numbers in the interval $[-0.1, 0.1]$ and we will use a learning rate, $\\alpha$, of $0.005$. "
   ]
  },
  {
   "cell_type": "code",
   "execution_count": 18,
   "metadata": {},
   "outputs": [],
   "source": [
    "# Generate random weights between -0.1 and 0.1\n",
    "random_weights = 0.2 * np.random.rand(784, 10) - 0.1\n",
    "\n",
    "# Train the neural network and store the weights - THIS TAKES TIME\n",
    "mnist_neural_network, weights = train_network(random_weights, training_images, training_targets, 0.005)"
   ]
  },
  {
   "cell_type": "markdown",
   "metadata": {},
   "source": [
    "We now have a neural network that has been trained on the $60,000$ images in MNIST dataset. Let's test the network on a sample image from the dataset to see what output it produces."
   ]
  },
  {
   "cell_type": "code",
   "execution_count": 19,
   "metadata": {},
   "outputs": [
    {
     "name": "stdout",
     "output_type": "stream",
     "text": [
      "     Output  Target\n",
      "0  0.173652     0.0\n",
      "1 -0.276776     0.0\n",
      "2  0.187037     0.0\n",
      "3 -0.121745     0.0\n",
      "4  0.087873     0.0\n",
      "5 -0.010774     0.0\n",
      "6  0.966136     1.0\n",
      "7  0.065407     0.0\n",
      "8  0.249793     0.0\n",
      "9  0.003823     0.0\n"
     ]
    },
    {
     "data": {
      "image/png": "[encoded data removed]",
      "text/plain": [
       "<Figure size 432x288 with 1 Axes>"
      ]
     },
     "metadata": {
      "needs_background": "light"
     },
     "output_type": "display_data"
    }
   ],
   "source": [
    "image = training_images[2345]\n",
    "targets = training_targets[2345]\n",
    "\n",
    "def display_output(outputs, targets):\n",
    "    \"\"\"Display the neuron values for a layer of the neural network\"\"\"\n",
    "    vals = {'Output': outputs.flatten(), 'Target': targets.flatten()}\n",
    "    output_table = pd.DataFrame(vals)\n",
    "    print(output_table)\n",
    "    \n",
    "# Propagate the image through the network\n",
    "outputs = mnist_neural_network(image)\n",
    "# Display the values of the output neurons\n",
    "display_output(outputs, targets)\n",
    "# Display the input image\n",
    "display_image(image)"
   ]
  },
  {
   "cell_type": "markdown",
   "metadata": {},
   "source": [
    "The output from the neural network is displayed above the sample image, which depicts the numerical digit $6$. Notice that while the produced output is still quite far from the target output, it does capture the target output's most important feature, viz., the neuron in position $6$ in the output layer is the one with the largest numerical value. Let us appeal to this property of the output of the neural network to see how well the network can identify the handwritten digits depicted by the images in the MNIST dataset. To test the neural network, we will ask it to identify the numbers depicted by the $10,000$ images in the dataset `testing_images`, which were not used to train the network.  "
   ]
  },
  {
   "cell_type": "code",
   "execution_count": 31,
   "metadata": {},
   "outputs": [
    {
     "name": "stdout",
     "output_type": "stream",
     "text": [
      "The neural network identified 7728/10000 (77.28%) of the images correctly.\n"
     ]
    }
   ],
   "source": [
    "def identify_digit(network, image):\n",
    "    \"\"\"Use a neural network to identify the handwritten digit depicted in an image\"\"\"\n",
    "    outputs = network(image)\n",
    "    # Return the neural network's prediction of the digit depicted in the image (the function \"np.argmax\" returns the index of the largest value in the argument array).\n",
    "    return np.argmax(outputs)\n",
    "\n",
    "\n",
    "def test_network(network):\n",
    "    # Total number of correct ids\n",
    "    correct = 0 \n",
    "    for i in range(len(testing_images)):\n",
    "        image = testing_images[i]\n",
    "        digit = testing_labels[i]\n",
    "        prediction = identify_digit(network, image)\n",
    "        # If the neural network correctly ids the digit, add 1 to the number of correct guesses. If not, do nothing.\n",
    "        if (prediction == digit):\n",
    "            correct += 1\n",
    "    \n",
    "    # Print the results\n",
    "    print(f\"The neural network identified {correct}/10000 ({round((correct / 10000) * 100, 2)}%) of the images correctly.\") \n",
    "    \n",
    "test_network(mnist_neural_network)"
   ]
  },
  {
   "cell_type": "markdown",
   "metadata": {},
   "source": [
    "## What is Machine Learning?\n",
    "\n",
    "[ADD CONTENT HERE]"
   ]
  },
  {
   "cell_type": "code",
   "execution_count": 23,
   "metadata": {},
   "outputs": [
    {
     "data": {
      "image/png": "[encoded data removed]",
      "text/plain": [
       "<Figure size 432x288 with 1 Axes>"
      ]
     },
     "metadata": {
      "needs_background": "light"
     },
     "output_type": "display_data"
    }
   ],
   "source": [
    "# Express the array of weights connecting the input neurons to a specific output neuron as a 2-d array.  \n",
    "weight_maps = [[] for i in range(10)]\n",
    "for number in range(10):\n",
    "    for px in range(784):\n",
    "        weight_maps[number].append(weights[px][number])\n",
    "        \n",
    "weight_maps = [np.array(weight_maps[i]) for i in range(10)] # IGNORE THIS LINE\n",
    "\n",
    "def display_correlation_map(number):\n",
    "    \"\"\"Display the weights connecting the input neurons to a specific output neuron as a correlational heat map\"\"\"\n",
    "    correlation_map = np.array([weight_maps[number][i * 28: (i + 1) * 28] for i in range(28)])\n",
    "    plt.imshow(correlation_map, interpolation='catrom', cmap='jet')\n",
    "\n",
    "display_correlation_map(6)\n"
   ]
  },
  {
   "cell_type": "markdown",
   "metadata": {},
   "source": [
    "## A Deep Neural Network\n",
    "\n",
    "While the simple 2-layer neural network that we implemented above performed reasonably well at the task of identifying the handwritten digits depicted by the images in the MNIST database, if we wish to improve the overall performance of the network, we must consider what factors limited its accuracy.\n",
    "\n",
    "Recall that in a simple 2-layer network, the value of the $i^{\\mathrm{th}}$ neuron in the output layer is computed by taking a weighted average of the values of the input neurons:\n",
    "$$ \n",
    "    o_i = \\sum_{j=0}^{N_0-1} v_j w_{ji} \n",
    "$$\n",
    "This means, in effect, that the only functional dependencies between the inputs and the outputs that the network can discover are those with a linear form. Thus, in training the 2-layer network, we are essentially performing a linear regression. That is, we are utilizing the method of gradient descent as a means of drawing a best-fit line (or, in this case, a multi-dimensional hyperplane) through the data. Given this fact, it is perhaps surprising that the model should have been able to predict the digits as accurately as it did. For there is no reason to think that the function relating the pixel weights in an image to the digit displayed is even approximately linear in form. Accordingly, if we wish to improve the accuracy of our predictions, we ought to use a more sophisticated neural network that is capable of discovering at least some *non-linear* functional dependencies that may exist between the inputs and the outputs. This shall be the aim of this section.\n",
    "\n",
    "The first complication that we will add to our neural network will be to include a third \"hidden\" layer of neurons, interposed between the input and output layers of the network. Again, the network will be fully connected in the sense that every neuron in the input layer will be connected to every neuron in the hidden layer, and every neuron in the hidden layer will be connected to every neuron in the output layer. The graph of such a fully connected 3-layer neural network is pictured below:\n",
    "\n",
    "![nn_deep](../assets/images/mnist/nn_deep.png)\n",
    "\n",
    "To describe the behavior of this sort of network more precisely, we will extend the notation that we used to describe the simple 2-layer network as follows:\n",
    "\n",
    "1. The network's input layer will be referred to as layer $0$, the hidden layer will be referred to as layer $1$, and the output layer will be referred to as layer $2$. \n",
    "2. For $i=0,1,2$, $N_i$ is the number of nodes in layer $i$ . \n",
    "\n",
    "For $t=0,\\ldots,T-1$ and $i=0,1$:\n",
    "\n",
    "3. $w^{i,t} = \\begin{bmatrix}\n",
    "                w^{i,t}_{00} & w^{i,t}_{01} & \\cdots & w^{i,t}_{0(N_1-1)}\\\\\n",
    "                w^{i,t}_{10} & w^{i,t}_{11} & \\cdots & w^{i,t}_{1(N_1-1)}\\\\\n",
    "                \\vdots & \\vdots & \\ddots & \\vdots\\\\\n",
    "                w^{i,t}_{(N_0-1)0} & w^{i,t}_{(N_0-1)1} & \\cdots & w^{i,t}_{(N_0-1)(N_1-1)}\\\\\n",
    "             \\end{bmatrix}$, where $w^{i,t}_{jk}=$ the weight of the link connecting the $j^{\\mathrm{th}}$ neuron in layer $i$ to the $k^{\\mathrm{th}}$ neuron in layer $i+1$ at the point at which the network is trained on the $t^{\\mathrm{th}}$ training input.\n",
    "\n",
    "How are inputs propagated through the network? The obvious answer is to propagate the inputs through the two layers of the network successively. This means that we first compute the values of the neurons in the hidden layer by taking weighted averages of the values of the neurons in the input layer. Then, we compute the values of the neurons in the output layer by taking weighted averages of the values of the neurons in the hidden layer. Formally, if $o^{i,t} = [o^{i,t}_0,\\ldots, o^{t}_{N_i-1}]$, where $o^{i,t}_j = $ the value assigned to the $j^{\\mathrm{th}}$ neuron in layer $i$ by propagating the $t^{\\mathrm{th}}$ training input through the network, then (i) $o^{0,t} = v^t$ and (ii) for $i=0,1$: $o^{i+1,t} = o^{i,t}\\cdot w^{i,t}$, i.e.:\n",
    "$$ \n",
    "    o^{0,t}_i = v^t_i \n",
    "$$\n",
    "\n",
    "$$ \n",
    "    o^{1,t}_i = \\sum_{j=0}^{N_0-1} o^{0,t}_j w^{0,t}_{ji} = \\sum_{j=0}^{N_0-1} v^t_j w^{0,t}_{ji} \n",
    "$$\n",
    "\n",
    "$$\n",
    "o^{2,t}_i = \\sum_{j=0}^{N_1-1} o^{1,t}_j w^{1,t}_{ji} = \\sum_{j=0}^{N_1-1}\\left(\\sum_{k=0}^{N_0-1} v^t_k w^{0,t}_{kj}\\right) w^{1,t}_{ji} \n",
    "$$\n",
    "Note that this last equation, relating the values of the output neurons to those of the input neurons, can be rewritten:\n",
    "$$\n",
    "\\begin{eqnarray}\n",
    "o^{2,t}_i &=& \\sum_{j=0}^{N_1-1}\\left(\\sum_{k=0}^{N_0-1} v^t_k w^{0,t}_{kj}\\right) w^{1,t}_{ji} \\\\\n",
    "          &=& \\sum_{j=0}^{N_1-1}\\left(\\sum_{k=0}^{N_0-1} v^t_k w^{0,t}_{kj}w^{1,t}_{ji}\\right) \\\\\n",
    "          &=& \\sum_{k=0}^{N_0-1}\\left(\\sum_{j=0}^{N_1-1} v^t_k w^{0,t}_{kj}w^{1,t}_{ji}\\right) \\\\\n",
    "          &=& \\sum_{k=0}^{N_0-1}v^t_k\\left(\\sum_{j=0}^{N_1-1} w^{0,t}_{kj}w^{1,t}_{ji}\\right) \\\\\n",
    "\\end{eqnarray}\n",
    "$$\n",
    "Thus, this equation is still of the form:\n",
    "$$\n",
    "o^{2,t}_i = \\sum_{k=0}^{N_0-1}v^t_k\\lambda_k\n",
    "$$\n",
    "In other words, the neural network can still only express linear functional dependencies between the input and output neurons. Weighted averages of weighted averages are still just weighted averages. Thus, without altering the propagation algorithm, a neural network with multiple interior layers can still only perform linear regressions. So, how do we introduce non-linearity into the propagation algorithm? One standard way to do so is to introduce a \"propagation threshold\" for some of the neurons in the network. If the value of a neuron falls below this threshold, then it will fail to fire, i.e., its value will cease to propagate through the network (similar threshold effects characterize the production of so-called action potentials by neurons in the brain). For example, let us stipulate that a neuron in the hidden layer will only propagate its value to the neurons in the output layer provided this value is greater than zero. In mathematical terms, this means that before we compute the values of the neurons in the output layer by taking weighted averages of the values of the neurons in the hidden layer, we will first replace these values with the result of applying to each, the following function:\n",
    "$$ \n",
    "\\begin{eqnarray}\n",
    "f(x) = \\max(0,x) = \\left\\{ \\begin{array}{ll} x & \\mathrm{if\\, } x > 0\\\\\n",
    "0 & \\mathrm{otherwise}\\end{array}\\right.\n",
    "\\end{eqnarray}\n",
    "$$\n",
    "(in the deep learning literature this function is referred to as \"ReLU\", which stands for rectified linear unit). Applying this threshold effect, the propagation of values from the hidden layer to the output layer of the network is now defined by the equation:\n",
    "$$\n",
    "o^{2,t}_i = \\sum_{j=0}^{N_1-1} f\\left(o^{1,t}_j\\right) w^{1,t}_{ji} = \\sum_{j=0}^{N_1-1}f\\left(\\sum_{k=0}^{N_0-1} v^t_k w^{0,t}_{kj}\\right) w^{1,t}_{ji} \n",
    "$$\n",
    "Later, we will consider what kinds of functional dependencies can be captured by the network, but for now, we simply note that these dependencies need no longer be linear.  "
   ]
  },
  {
   "cell_type": "markdown",
   "metadata": {},
   "source": [
    "### Gradient Descent in a 3-Layer Network\n",
    "\n",
    "\n",
    "As was the case with the simple 2-layer network, we will train the network by successively feeding each training input to the network, compare the output to the corresponding training target, and update the weights in accordance with the method of gradient descent. Since the network now has a more complicated architecture, the details of this method are somewhat more involved:  \n",
    "\n",
    "1. **Propagate the $t^{\\mathrm{th}}$ training input through the network.** As discussed above, inputs are propagated through the network in accordance with the following equations:\n",
    "$$ \n",
    "\\begin{eqnarray}\n",
    "    o^{0,t} &=& v^t \\\\ \n",
    "    o^{1,t} &=& o^{0,t}\\cdot w^{0,t} \\\\ \n",
    "    o^{2,t} &=& f\\left(o^{1,t}\\right)\\cdot w^{1,t}\n",
    "\\end{eqnarray}\n",
    "$$\n",
    "Here, and in what follows, if $v$ is the vector $[v_0,\\ldots,v_n]$, then $f(v)$ is the vector that results from the elementwise application of $f$ to $v$, i.e., $f(v) = [f(v_{0}),\\ldots,f(v_n)]$.  "
   ]
  },
  {
   "cell_type": "code",
   "execution_count": 24,
   "metadata": {},
   "outputs": [],
   "source": [
    "def relu(x):\n",
    "    \"\"\"Rectified Linear Unit (ReLU). Used to produce a non-linear threshold effect in the network\"\"\"\n",
    "    return x if (x > 0) else 0 \n",
    "\n",
    "relu = np.vectorize(relu) #IGNORE THIS LINE"
   ]
  },
  {
   "cell_type": "code",
   "execution_count": 25,
   "metadata": {},
   "outputs": [],
   "source": [
    "def propagate(weights, inputs):  # NOTE: weights is a 2-length array (weights[i] (i = 0,1) stores the weights connecting layers i and i+1).\n",
    "    \"\"\"Propagate inputs through the deep neural network\"\"\"\n",
    "    layers = []\n",
    "    # First, set the values of the neurons in layer 0 to the input values\n",
    "    layers.insert(0, inputs)\n",
    "    # Next, compute the values of the neurons in layer 1 by taking weighted averages.\n",
    "    layers.insert(1, np.dot(layers[0], weights[0]))\n",
    "    # Finally, compute the values of the neurons in layer 2 by applying ReLU and then taking weighted averages\n",
    "    layers.insert(2, np.dot(relu(layers[1]), weights[1]))        \n",
    "        \n",
    "    return layers # NOTE: layers is now a 3-length array (layers[i] (i = 0,1,2) stores the values of the neurons in layer i)."
   ]
  },
  {
   "cell_type": "markdown",
   "metadata": {},
   "source": [
    "2. **Measure the degree of deviation (or \"loss\") of the outputs from the corresponding training target**. As before, we will measure the loss in the network outputs by the mean-squared error:\n",
    "$$\n",
    "E(o^{2,t}) = \\frac{1}{N_2}(o^{2,t} - l^t)^2 = \\frac{1}{N_2}\\sum_{i=0}^{N_2-1} (o^{2,t}_i - l^t_i)^2\n",
    "$$"
   ]
  },
  {
   "cell_type": "markdown",
   "metadata": {},
   "source": [
    "3. **Adjust the network weights by some amount in the opposite direction of the gradient of the loss function.** To carry out this step, we must compute the $w^{i,t}_{jk}$-component of the gradient of the error function $E$, for each of the weights in the network. We will first do so for the weights connecting the neurons in layer 1 to those in layer 2, i.e., to weights of the form $w^{1,t}_{ij}$. The partial derivative of $E$ with respect to $w^{1,t}_{ij}$ is given by:\n",
    "$$\n",
    "\\begin{eqnarray}\n",
    "    \\frac{\\partial E}{\\partial w^{1,t}_{ij}} &=& \\frac{\\partial}{\\partial w^{1,t}_{ij}}\\left\\{\\frac{1}{N_2}\\sum_{n=0}^{N_2-1} (o^{2,t}_n - l^t_n)^2\\right\\} \\\\\n",
    "                                        &=& \\frac{\\partial}{\\partial w^{1,t}_{ij}}\\left\\{\\frac{1}{N_2}\\sum_{n=0}^{N_2-1} \\left(\\left(\\sum_{m=0}^{N_1-1} f(o^{1,t}_m) w^{1,t}_{mn}\\right) - l^t_n\\right)^2\\right\\} \\\\\n",
    "                                        &=& \\frac{\\partial}{\\partial w^{1,t}_{ij}}\\left\\{\\frac{1}{N_2}\\left(\\left(\\sum_{m=0}^{N_1-1} f(o^{1,t}_m) w^{1,t}_{mj}\\right) - l^t_j\\right)^2\\right\\}\\\\\n",
    "                                        &=& \\frac{2f(o^{1,t}_i)}{N_2}\\left(\\left(\\sum_{m=0}^{N_1-1} f(o^{1,t}_m) w^t_{mj}\\right) - l^t_j\\right) \\\\\n",
    "                                        &=& \\frac{2f(o^{1,t}_i)}{N_2}\\left(o^{2,t}_j - l^t_j\\right) \\\\\n",
    "\\end{eqnarray}\n",
    "$$\n",
    "\n",
    "Note that this is very similar to the equation for updating the weights in the simple 2-layer network, with the one exception that the quantity $(o^{2,t}-l^t)$ is not multipled by the value of the corresponding neuron, but rather by the image of this value under the function $f$. \n",
    "     To update the weights connecting the neurons in the input layer to those in the hidden layer, we must compute the partial derivative of the loss function $E$ with respect to $w^{0,t}_{ij}$. This partial derivative is given by:\n",
    "     $$\n",
    "\\begin{eqnarray}\n",
    "    \\frac{\\partial E}{\\partial w^{0,t}_{ij}} &=& \\frac{\\partial}{\\partial w^{0,t}_{ij}}\\left\\{\\frac{1}{N_2}\\sum_{n=0}^{N_2-1} (o^{2,t}_n - l^t_n)^2\\right\\} \\\\\n",
    "                                        &=& \\frac{\\partial}{\\partial w^{0,t}_{ij}}\\left\\{\\frac{1}{N_2}\\sum_{n=0}^{N_2-1} \\left(\\left(\\sum_{m=0}^{N_1-1} f(o^{1,t}_m) w^{1,t}_{mn}\\right) - l^t_n\\right)^2\\right\\} \\\\\n",
    "                                        &=& \\frac{\\partial}{\\partial w^{0,t}_{ij}}\\left\\{\\frac{1}{N_2}\\sum_{n=0}^{N_2-1} \\left(\\left(\\sum_{m=0}^{N_1-1} f(o^{1,t}_m) w^{1,t}_{mn}\\right) - l^t_n\\right)^2\\right\\} \\\\\n",
    "                                        &=& \\frac{1}{N_2}\\sum_{n=0}^{N_2-1}\\left(\\frac{\\partial}{\\partial w^{0,t}_{ij}}\\left\\{\\left(\\left(\\sum_{m=0}^{N_1-1} f(o^{1,t}_m) w^{1,t}_{mn}\\right) - l^t_n\\right)^2\\right\\}\\right) \\\\\n",
    "                                        &=& \\frac{1}{N_2}\\sum_{n=0}^{N_2-1}\\left(2\\left(\\left(\\sum_{m=0}^{N_1-1} f(o^{1,t}_m) w^{1,t}_{mn}\\right) - l^t_n\\right) \\frac{\\partial}{\\partial w^{0,t}_{ij}}\\left\\{f(o^{1,t}_j) w^{1,t}_{jn} \\right\\}\\right) \\\\\n",
    "                                        &=& \\frac{1}{N_2}\\sum_{n=0}^{N_2-1}\\left(2\\left(o^{2,t}_n - l^t_n\\right) w^{1,t}_{jn} \\left(\\frac{\\partial}{\\partial w^{0,t}_{ij}}\\left\\{f(o^{1,t}_j) \\right\\}\\right)\\right)\n",
    "\\end{eqnarray}\n",
    "    $$\n",
    "The quantity $\\frac{\\partial}{\\partial w^{0,t}_{ij}}\\left\\{f(o^{1,t}_j) \\right\\}$ can be calculated using the chain rule as follows:\n",
    "    $$\n",
    "\\begin{eqnarray}\n",
    "   \\frac{\\partial}{\\partial w^{0,t}_{ij}}\\left\\{f(o^{1,t}_j) \\right\\} &=& f'(o^{1,t}_j)\\left(\\frac{\\partial o^{1,t}_j}{\\partial  w^{0,t}_{ij}}\\right) \\\\\n",
    "                                                                      &=& f'(o^{1,t}_j)\\left(\\frac{\\partial}{\\partial  w^{0,t}_{ij}}\\left\\{ \\sum_{n=0}^{N_0-1} o^{0,t}_n w^{0,t}_{nj}\\right\\}\\right)\\\\\n",
    "                                                                      &=& f'(o^{1,t}_j)\\,o^{0,t}_i\n",
    "\\end{eqnarray}\n",
    "    $$\n",
    "Here $f'$ is the derivative of the function $f$:\n",
    "    $$\n",
    "f'(x) = \\frac{df}{dx} = \\left\\{\\begin{array}{ll} 1 & \\mathrm{if\\,} x>0 \\\\\n",
    "                               0 & \\mathrm{otherwise}\n",
    "                               \\end{array}\\right.\n",
    "    $$  \n",
    "(NB: in fact, the function $f$ is not differentiable at $0$, but we will stipulate that $f'(0)=0$). Plugging this back into the above equation, we get:\n",
    "$$\n",
    "\\begin{eqnarray}\n",
    "    \\frac{\\partial E}{\\partial w^{0,t}_{ij}} &=& \\frac{2o^{0,t}_i f'(o^{1,t}_j)}{N_2}\\sum_{n=0}^{N_2-1}\\left(o^{2,t}_n - l^t_n\\right)w^{1,t}_{jn}  \\\\\n",
    "\\end{eqnarray}\n",
    "$$\n",
    "Let us summarize the above results. The $w^{1,t}_{ij}$-component of the gradient of the error function is proportional to:\n",
    "$$f(o^{1,t}_i)\\left(o^{2,t}_j - l^t_j\\right)$$\n",
    "and the $w^{0,t}_{ij}$-component of the gradient of the error function is proportional (in that same proportion) to:\n",
    "$$o^{0,t}_i f'(o^{1,t}_j)\\sum_{n=0}^{N_2-1}\\left(o^{2,t}_n - l^t_n\\right)w^{1,t}_{jn} $$\n",
    "Just as before, to adjust the weights in the direction opposite to the gradient means to *subtract* from each weight some fixed positive multiple of this quantity, i.e.: \n",
    "$$\n",
    "w^{1, t+1}_{ij} = w^{1, t}_{ij} - \\alpha f(o^{1,t}_i)\\left(o^{2,t}_j - l^t_j\\right)\n",
    "$$\n",
    "$$\n",
    "w^{0, t+1}_{ij} = w^{0, t}_{ij} - \\alpha o^{0,t}_i f'(o^{1,t}_j)\\sum_{n=0}^{N_2-1}\\left(o^{2,t}_n - l^t_n\\right)w^{1,t}_{jn}\n",
    "$$\n",
    "In matrix notation, these equations can be expressed:\n",
    "$$\n",
    "w^{1, t+1} = w^{1,t} - \\alpha \\left(f(o^{1,t})^{\\top}\\cdot(o^{2,t}-l^t)\\right)\n",
    "$$\n",
    "$$\n",
    "w^{0, t+1} = w^{0, t} - \\alpha\\left((o^{0,t})^{\\top}\\cdot  \\left(f'(o^{1,t}) \\ast \\left((o^{2,t} - l^t)\\cdot (w^{1,t})^{\\top}   \\right)\\right)\\right)\n",
    "$$\n",
    "where (as usual) $\\cdot$ represents matrix multiplication and $\\ast$ represents the element-wise product of two matrices with the same dimensions. The following code implements this algorithm: \n"
   ]
  },
  {
   "cell_type": "code",
   "execution_count": 26,
   "metadata": {},
   "outputs": [],
   "source": [
    "def d_relu(x):\n",
    "    \"\"\"The derivative of the ReLU function\"\"\"\n",
    "    return 1 if (x > 0) else 0\n",
    "\n",
    "d_relu = np.vectorize(d_relu) # IGNORE THIS LINE\n",
    "\n",
    "def gradient_descent(weights, inputs, targets, alpha):\n",
    "    \"\"\"Update weights using back-propagated gradient descent wrt mean squared loss function\"\"\"\n",
    "    # Propagate the inputs throught the network\n",
    "    layers = propagate(weights, inputs)\n",
    "    # Compute the gradient (scaled by alpha) for both weights[0] and weights[1]    \n",
    "    scaled_gradient_1 = alpha * (np.dot(relu(layers[1]).T, layers[2] - targets)) \n",
    "    scaled_gradient_0 = alpha * (np.dot(layers[0].T, \n",
    "                                       d_relu(layers[1]) * np.dot(layers[2] - targets, # * is elementwise multiplication for matrices with the same dimension\n",
    "                                                                 weights[1].T)))\n",
    "    \n",
    "    # Adjust the weights by subtracting the scaled gradient\n",
    "    weights[0] -= scaled_gradient_0\n",
    "    weights[1] -= scaled_gradient_1\n",
    "\n",
    "    return weights"
   ]
  },
  {
   "cell_type": "markdown",
   "metadata": {},
   "source": [
    "4. **Repeat steps 1-4 for the $(t+1)^{th}$ training input.** Training the network consists in updating the weights by successively applying the gradient descent algorithm to each of the training inputs. In other words, given initial weights, $w^{0,0}$ and $w^{1,0}$, the training process returns a neural network with weights, $w^{0,T}$ and $w^{1,T}$, obtained through the repeated application of the gradient decent algorithm.\n"
   ]
  },
  {
   "cell_type": "code",
   "execution_count": 27,
   "metadata": {},
   "outputs": [],
   "source": [
    "def train_network(initial_weights, training_inputs, training_targets, alpha):\n",
    "    \"\"\"Train the neural network using the method of gradient descent\"\"\"\n",
    "    # Initialize weights\n",
    "    weights = initial_weights\n",
    "    # Update weights for each training input\n",
    "    for t in range(len(training_inputs)):\n",
    "        inputs = training_inputs[t]\n",
    "        targets = training_targets[t]\n",
    "        weights = gradient_descent(weights, inputs, targets, alpha)\n",
    "        \n",
    "    # Return the trained neural network\n",
    "    def trained_network(inputs):\n",
    "        layers = propagate(weights, inputs)\n",
    "        return layers[2]\n",
    "    \n",
    "    return trained_network, weights          "
   ]
  },
  {
   "cell_type": "markdown",
   "metadata": {},
   "source": [
    "### Training and Testing the MNIST Deep Neural Network\n",
    "\n",
    "We are now in a position to train our deep neural network to identify the digits depicted in the images in the MNIST dataset. In addition to its $784$ input neurons (one for each pixel in a given image) and $10$ output neurons (one for each of the numerical digits $0,\\ldots,9$), the network will also contain a hidden layer consisting of $40$ neurons. Just as before, we will train the network on the first $55,000$ images from the dataset, using random initial weights in the interval $[-0.1, 0.1]$, and a learning rate of $0.005$."
   ]
  },
  {
   "cell_type": "code",
   "execution_count": 28,
   "metadata": {},
   "outputs": [],
   "source": [
    "# Generate random weights between -0.1 and 0.1\n",
    "hidden_layer_size = 40\n",
    "random_weights = []\n",
    "random_weights.insert(0, 0.2 * np.random.rand(784, hidden_layer_size) - 0.1)\n",
    "random_weights.insert(1, 0.2 * np.random.rand(hidden_layer_size, 10) - 0.1)\n",
    "\n",
    "# Train the neural network - THIS TAKES TIME\n",
    "mnist_deep_neural_network, weights = train_network(random_weights, training_images, training_targets, 0.005)"
   ]
  },
  {
   "cell_type": "markdown",
   "metadata": {},
   "source": [
    "We now have a deep neural network that we can use to identify handwritten digits, such as those depicted in the images in the MNIST database. Let's see how well it performs on the $5,000$ images not included in the training set. "
   ]
  },
  {
   "cell_type": "code",
   "execution_count": 32,
   "metadata": {},
   "outputs": [
    {
     "name": "stdout",
     "output_type": "stream",
     "text": [
      "The neural network identified 9044/10000 (90.44%) of the images correctly.\n"
     ]
    }
   ],
   "source": [
    "test_network(mnist_deep_neural_network)"
   ]
  },
  {
   "cell_type": "markdown",
   "metadata": {},
   "source": [
    "The accuracy of the network has significantly improved, but we can improve it still further by retraining the network on the training inputs several more times. In the deep learning literature, a single training cycle in which the network processes all the training inputs is referred to as an *epoch*. Let's allow the network to train for $5$ epochs and see how well it performs."
   ]
  },
  {
   "cell_type": "raw",
   "metadata": {},
   "source": [
    "# Train the network for 5 epochs - THIS WILL TAKE SOME TIME! \n",
    "for epoch in range(5):\n",
    "    mnist_deep_neural_network, weights = train_network(weights, training_images, training_targets, 0.005) \n",
    "    \n",
    "# Save the weights to avoid the need for future retraining\n",
    "np.savez(\"../assets/data/mnist/trained-networks/dnn_5.npz\", weights[0], weights[1])"
   ]
  },
  {
   "cell_type": "code",
   "execution_count": 35,
   "metadata": {},
   "outputs": [],
   "source": [
    "# Load the weights to avoid the need to train the network\n",
    "weights = np.load(\"../assets/data/mnist/trained-networks/dnn_5.npz\")\n",
    "weights = [weights['arr_0'], weights['arr_1']]\n",
    "\n",
    "def mnist_deep_neural_network(inputs):\n",
    "    layers = propagate(weights, inputs)\n",
    "    return layers[2]"
   ]
  },
  {
   "cell_type": "code",
   "execution_count": 36,
   "metadata": {},
   "outputs": [
    {
     "name": "stdout",
     "output_type": "stream",
     "text": [
      "The neural network identified 9348/10000 (93.48%) of the images correctly.\n"
     ]
    }
   ],
   "source": [
    "test_network(mnist_deep_neural_network)"
   ]
  },
  {
   "cell_type": "markdown",
   "metadata": {},
   "source": [
    "## The Universal Approximation Theorem\n",
    "\n",
    "[ADD CONTENT HERE]"
   ]
  },
  {
   "cell_type": "markdown",
   "metadata": {},
   "source": [
    "## A Convolutional Neural Network\n",
    "\n",
    "[ADD CONTENT HERE]"
   ]
  },
  {
   "cell_type": "code",
   "execution_count": null,
   "metadata": {},
   "outputs": [],
   "source": []
  }
 ],
 "metadata": {
  "kernelspec": {
   "display_name": "Python 3",
   "language": "python",
   "name": "python3"
  },
  "language_info": {
   "codemirror_mode": {
    "name": "ipython",
    "version": 3
   },
   "file_extension": ".py",
   "mimetype": "text/x-python",
   "name": "python",
   "nbconvert_exporter": "python",
   "pygments_lexer": "ipython3",
   "version": "3.8.5"
  }
 },
 "nbformat": 4,
 "nbformat_minor": 4
}
